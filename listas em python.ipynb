{
 "cells": [
  {
   "cell_type": "code",
   "execution_count": 12,
   "metadata": {},
   "outputs": [
    {
     "name": "stdout",
     "output_type": "stream",
     "text": [
      "[]\n",
      "['p', 'y', 't', 'h', 'o', 'n']\n",
      "[0, 1, 2, 3, 4, 5, 6, 7, 8, 9]\n",
      "['Ferrari', 'F8', 42000, 2020, 'Sao Paulo', True]\n"
     ]
    }
   ],
   "source": [
    "frutas = [\"maca\",\"banana\"]\n",
    "frutas = []\n",
    "letras = list('python')\n",
    "numeros = list(range(10))\n",
    "carro = [\"Ferrari\",\"F8\",42000,2020,\"Sao Paulo\", True]\n",
    "print(frutas)\n",
    "print(letras)\n",
    "print(numeros)\n",
    "print(carro)"
   ]
  },
  {
   "cell_type": "code",
   "execution_count": 13,
   "metadata": {},
   "outputs": [
    {
     "ename": "IndexError",
     "evalue": "list index out of range",
     "output_type": "error",
     "traceback": [
      "\u001b[1;31m---------------------------------------------------------------------------\u001b[0m",
      "\u001b[1;31mIndexError\u001b[0m                                Traceback (most recent call last)",
      "Cell \u001b[1;32mIn[13], line 1\u001b[0m\n\u001b[1;32m----> 1\u001b[0m \u001b[39mprint\u001b[39m(frutas[\u001b[39m0\u001b[39;49m])\n",
      "\u001b[1;31mIndexError\u001b[0m: list index out of range"
     ]
    }
   ],
   "source": [
    "print(frutas[0])"
   ]
  },
  {
   "cell_type": "code",
   "execution_count": null,
   "metadata": {},
   "outputs": [
    {
     "name": "stdout",
     "output_type": "stream",
     "text": [
      "1\n",
      "44\n"
     ]
    }
   ],
   "source": [
    "matriz = [[1,4,7],[45,67,89],[22,33,44]]\n",
    "print(matriz[0][0])\n",
    "print(matriz[-1][-1])"
   ]
  },
  {
   "cell_type": "code",
   "execution_count": null,
   "metadata": {},
   "outputs": [
    {
     "name": "stdout",
     "output_type": "stream",
     "text": [
      "['R', 'i', 'o', ' ', 'd', 'e', ' ', 'J', 'a', 'n', 'e', 'i', 'r', 'o']\n",
      "['R', 'i', 'o']\n",
      "['d', 'e']\n",
      "['J', 'a', 'n', 'e', 'i', 'r', 'o']\n",
      "['R', 'i', 'o', ' ', 'd', 'e', ' ', 'J', 'a', 'n', 'e', 'i', 'r', 'o']\n",
      "['o', 'r', 'i', 'e', 'n', 'a', 'J', ' ', 'e', 'd', ' ', 'o', 'i', 'R']\n"
     ]
    }
   ],
   "source": [
    "lista = list(\"Rio de Janeiro\")\n",
    "print(lista)\n",
    "print(lista[:3])\n",
    "print(lista[4:6])\n",
    "print(lista[7:])\n",
    "print(lista[::])\n",
    "print(lista[::-1])"
   ]
  },
  {
   "cell_type": "code",
   "execution_count": null,
   "metadata": {},
   "outputs": [
    {
     "name": "stdout",
     "output_type": "stream",
     "text": [
      "item: R\n",
      "item: i\n",
      "item: o\n",
      "item:  \n",
      "item: d\n",
      "item: e\n",
      "item:  \n",
      "item: J\n",
      "item: a\n",
      "item: n\n",
      "item: e\n",
      "item: i\n",
      "item: r\n",
      "item: o\n"
     ]
    }
   ],
   "source": [
    "for item in lista:\n",
    "    print('item:',item)"
   ]
  },
  {
   "cell_type": "code",
   "execution_count": null,
   "metadata": {},
   "outputs": [
    {
     "name": "stdout",
     "output_type": "stream",
     "text": [
      "item  0  :  R\n",
      "item  1  :  i\n",
      "item  2  :  o\n",
      "item  3  :   \n",
      "item  4  :  d\n",
      "item  5  :  e\n",
      "item  6  :   \n",
      "item  7  :  J\n",
      "item  8  :  a\n",
      "item  9  :  n\n",
      "item  10  :  e\n",
      "item  11  :  i\n",
      "item  12  :  r\n",
      "item  13  :  o\n"
     ]
    }
   ],
   "source": [
    "for indice, item in enumerate(lista):\n",
    "    print ('item ',indice,\" : \",item)"
   ]
  },
  {
   "attachments": {},
   "cell_type": "markdown",
   "metadata": {},
   "source": [
    "## List comprehension"
   ]
  },
  {
   "attachments": {},
   "cell_type": "markdown",
   "metadata": {},
   "source": [
    "Criar outra lista somente com os números pares"
   ]
  },
  {
   "cell_type": "code",
   "execution_count": 15,
   "metadata": {},
   "outputs": [
    {
     "name": "stdout",
     "output_type": "stream",
     "text": [
      "[4, 6, 10]\n"
     ]
    }
   ],
   "source": [
    "numeros = [1,4,6,7,9,11,10]\n",
    "pares = [numero for numero in numeros if numero % 2 == 0]\n",
    "print(pares)"
   ]
  },
  {
   "attachments": {},
   "cell_type": "markdown",
   "metadata": {},
   "source": [
    "Criar outra lista contendo os quadrados dos números:"
   ]
  },
  {
   "cell_type": "code",
   "execution_count": 16,
   "metadata": {},
   "outputs": [
    {
     "name": "stdout",
     "output_type": "stream",
     "text": [
      "[1, 16, 36, 49, 81, 121, 100]\n"
     ]
    }
   ],
   "source": [
    "quadrados = [numero**2 for numero in numeros]\n",
    "print(quadrados)"
   ]
  },
  {
   "cell_type": "code",
   "execution_count": 17,
   "metadata": {},
   "outputs": [
    {
     "data": {
      "text/plain": [
       "[0, 2, 4, 6, 64]"
      ]
     },
     "execution_count": 17,
     "metadata": {},
     "output_type": "execute_result"
    }
   ],
   "source": [
    " [n**2 if n > 6 else n for n in range(10) if n % 2 == 0] "
   ]
  }
 ],
 "metadata": {
  "kernelspec": {
   "display_name": "Python 3",
   "language": "python",
   "name": "python3"
  },
  "language_info": {
   "codemirror_mode": {
    "name": "ipython",
    "version": 3
   },
   "file_extension": ".py",
   "mimetype": "text/x-python",
   "name": "python",
   "nbconvert_exporter": "python",
   "pygments_lexer": "ipython3",
   "version": "3.11.1"
  },
  "orig_nbformat": 4
 },
 "nbformat": 4,
 "nbformat_minor": 2
}
